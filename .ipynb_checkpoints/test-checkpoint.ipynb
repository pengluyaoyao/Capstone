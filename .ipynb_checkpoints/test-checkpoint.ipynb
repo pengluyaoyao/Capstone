{
 "cells": [
  {
   "cell_type": "code",
   "execution_count": 1,
   "metadata": {
    "collapsed": true
   },
   "outputs": [],
   "source": [
    "%matplotlib inline"
   ]
  },
  {
   "cell_type": "code",
   "execution_count": 2,
   "metadata": {},
   "outputs": [
    {
     "name": "stderr",
     "output_type": "stream",
     "text": [
      "/Users/pengluyao/anaconda3/lib/python3.6/importlib/_bootstrap.py:219: RuntimeWarning: numpy.dtype size changed, may indicate binary incompatibility. Expected 96, got 88\n",
      "  return f(*args, **kwds)\n",
      "/Users/pengluyao/anaconda3/lib/python3.6/importlib/_bootstrap.py:219: RuntimeWarning: numpy.dtype size changed, may indicate binary incompatibility. Expected 96, got 88\n",
      "  return f(*args, **kwds)\n",
      "/Users/pengluyao/anaconda3/lib/python3.6/importlib/_bootstrap.py:219: RuntimeWarning: numpy.dtype size changed, may indicate binary incompatibility. Expected 96, got 88\n",
      "  return f(*args, **kwds)\n"
     ]
    }
   ],
   "source": [
    "from numpy import linspace\n",
    "import numpy as np\n",
    "from scipy.stats.kde import gaussian_kde\n",
    "import dill\n",
    "from bokeh.models import ColumnDataSource, FixedTicker, PrintfTickFormatter, Select,Plot\n",
    "from bokeh.plotting import figure\n",
    "from bokeh.models.glyphs import Patches\n",
    "from bokeh.io import curdoc, show\n",
    "import colorcet as cc\n",
    "from bokeh.layouts import widgetbox, row, column"
   ]
  },
  {
   "cell_type": "code",
   "execution_count": null,
   "metadata": {
    "collapsed": true
   },
   "outputs": [],
   "source": []
  },
  {
   "cell_type": "code",
   "execution_count": 4,
   "metadata": {
    "collapsed": true
   },
   "outputs": [],
   "source": [
    "Dict_1_5 = {K: {'essay_set 1' : V['essay_set 1'], 'essay_set 5' : V['essay_set 5'] }  for K, V in Dict.items()}\n",
    "\n",
    "def joy(category, data, scale):\n",
    "    return list(zip([category]*len(data), scale*data))\n",
    "\n",
    "cats = ['essay_set 1', 'essay_set 5']\n",
    "\n",
    "palette = [cc.rainbow[i*15] for i in range(17)]\n",
    "\n",
    "feature_dict1 = Dict_1_5['total word_count']\n",
    "feature_dict2 = Dict_1_5['sentence_number']\n",
    "feature_dict3 = Dict_1_5['count_lemma']\n",
    "feature_dict4 = Dict_1_5['spelling_error']\n",
    "xmax1 = (max([max(feature_dict1[n]) for n in feature_dict1]))\n",
    "xmax2 = (max([max(feature_dict2[n]) for n in feature_dict2]))\n",
    "xmax3 = (max([max(feature_dict3[n]) for n in feature_dict3]))\n",
    "xmax4 = (max([max(feature_dict4[n]) for n in feature_dict4]))\n",
    "x1 = (linspace(0, xmax1, 500))\n",
    "x2 = (linspace(0, xmax2, 500))\n",
    "x3 = (linspace(0, xmax3, 500))\n",
    "x4 = (linspace(0, xmax4, 500))\n",
    "# Data = {'x': x}\n",
    "# source = ColumnDataSource(Data)\n",
    "source1 = ColumnDataSource(data={'x':x1})\n",
    "source2 = ColumnDataSource(data={'x':x2})\n",
    "source3 = ColumnDataSource(data={'x':x3})\n",
    "source4 = ColumnDataSource(data={'x':x4})\n",
    "\n",
    "p = figure(y_range=cats, plot_width=900, x_range=(0, 900), toolbar_location=None)\n",
    "\n",
    "'''\n",
    "for i, cat in enumerate(cats):\n",
    "    pdf = gaussian_kde(Dict_1_5['total word_count'][cat], 'silverman')\n",
    "    y = joy(cat, pdf(x1), 80)\n",
    "    source1.add(y, cat)\n",
    "    r1 = p.patch('x', cat, fill_color=palette[i], fill_alpha=0.8, line_color = None, source=source1)\n",
    "\n",
    "'''\n",
    "for i, cat in enumerate(cats):\n",
    "    pdf = gaussian_kde(Dict_1_5['sentence_number'][cat], 'silverman')\n",
    "    y = joy(cat, pdf(x2), 80)\n",
    "    source2.add(y, cat)\n",
    "    r2 = p.patch('x', cat, fill_color=palette[i], fill_alpha=0.8, line_color = None, source=source2)\n",
    "'''\n",
    "for i, cat in enumerate(cats):\n",
    "    pdf = gaussian_kde(Dict_1_5['count_lemma'][cat], 'silverman')\n",
    "    y = joy(cat, pdf(x3), 80)\n",
    "    source3.add(y, cat)\n",
    "    r3 = p.patch('x', cat, fill_color=palette[i], fill_alpha=0.8, line_color = None, source=source3)\n",
    "\n",
    "for i, cat in enumerate(cats):\n",
    "    pdf = gaussian_kde(Dict_1_5['spelling_error'][cat], 'silverman')\n",
    "    y = joy(cat, pdf(x4), 80)\n",
    "    source4.add(y, cat)\n",
    "    r4 = p.patch('x', cat, fill_color=palette[i], fill_alpha=0.8, line_color = None, source=source4)\n",
    "'''\n",
    "\n",
    "p.title.text = \"The Number of Sentences per Essay Category\"\n",
    "p.title.align = 'center'\n",
    "p.title.text_font_size = '20pt'\n",
    "p.title.text_font = 'serif'\n",
    "\n",
    "    # Axis titles\n",
    "p.xaxis.axis_label_text_font_size = '14pt'\n",
    "p.xaxis.axis_label_text_font_style = 'bold'\n",
    "p.yaxis.axis_label_text_font_size = '14pt'\n",
    "p.yaxis.axis_label_text_font_style = 'bold'\n",
    "\n",
    "    # Tick labels\n",
    "p.xaxis.major_label_text_font_size = '12pt'\n",
    "p.yaxis.major_label_text_font_size = '12pt'\n",
    "\n",
    "show(p)"
   ]
  },
  {
   "cell_type": "code",
   "execution_count": null,
   "metadata": {
    "collapsed": true
   },
   "outputs": [],
   "source": []
  }
 ],
 "metadata": {
  "kernelspec": {
   "display_name": "Python 3",
   "language": "python",
   "name": "python3"
  },
  "language_info": {
   "codemirror_mode": {
    "name": "ipython",
    "version": 3
   },
   "file_extension": ".py",
   "mimetype": "text/x-python",
   "name": "python",
   "nbconvert_exporter": "python",
   "pygments_lexer": "ipython3",
   "version": "3.6.3"
  }
 },
 "nbformat": 4,
 "nbformat_minor": 1
}
