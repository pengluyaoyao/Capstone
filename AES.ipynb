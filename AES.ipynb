{
 "cells": [
  {
   "cell_type": "markdown",
   "metadata": {},
   "source": [
    "# Automated Essay Scoring (AES)\n",
    "\n",
    "Essays are crucial testing tools for assessing academic achievement, integration of ideas and ability, but are expensive and time consuming to grade manually. Automated essay scoring (AES) saves the efforts of human graders and hence significantly reduces costs and time. In some high stakes examinations, AES is used so there is no need to have a second human grader to verify or compare; In low stakes evaluations, AES is the only grading scheme. \n",
    "\n",
    "Previous studies have included baseline features:\n",
    "1. Bag of Words (BOW) counts (10000 words with maximum frequency)\n",
    "2. Number of characters \n",
    "3. Number of words \n",
    "4. Number of sentences \n",
    "5. Average word length\n",
    "6. Number of lemmas\n",
    "7. Number of spellng errors \n",
    "8. Number of nouns\n",
    "9. Number of adjectives \n",
    "10. Number of verbs \n",
    "11. Number of adverbs \n",
    "\n",
    "In addition to those features, this project tries to extract \n",
    "1. sentiment features\n",
    "2. content features\n",
    "3. grammar features \n",
    "\n",
    "## Goal\n",
    "\n",
    "1. What kind of features could imporve AES models so it grades as close as to the human graders. \n",
    "\n",
    "2. Different AES models will also be compared. "
   ]
  },
  {
   "cell_type": "markdown",
   "metadata": {},
   "source": [
    "# Data\n",
    "\n",
    "## Dataset from kaggle.com, by the William and Flora Hewlett Foundation.\n",
    "\n",
    "|Type of Essay|grade level|number of training |number of validation|\n",
    "|----------|-------------------|--------------|------|\n",
    "|narrative/persuasive/expository|8|1785|592 \n",
    "|narrative/persuasive/expository|10|1800|600| \n",
    "|source dependent|10|1726|575|\n",
    "|source dependent|10|1772|589|\n",
    "|source dependent|8|1805|601|\n",
    "|source dependent|10|1800|600|\n",
    "|narrative/persuasive/expository|7|1730|576|\n",
    "|narrative/persuasive/expository|10|918|305|\n",
    "\n",
    "## Example: Essay set 1 prompt\n",
    "\n",
    "\n",
    "More and more people use computers, but not everyone agrees that this benefits society. Those who support advances in technology believe that computers have a positive effect on people. They teach hand-eye coordination, give people the ability to learn about faraway places and people, and even allow people to talk online with other people. Others have different ideas. Some experts are concerned that people are spending too much time on their computers and less time exercising, enjoying nature, and interacting with family and friends. \n",
    "\n",
    "Write a letter to your local newspaper in which you state your opinion on the effects computers have on people. Persuade the readers to agree with you.\n"
   ]
  },
  {
   "cell_type": "markdown",
   "metadata": {},
   "source": [
    "# Descriptive Analysis"
   ]
  },
  {
   "cell_type": "code",
   "execution_count": 10,
   "metadata": {},
   "outputs": [],
   "source": [
    "%matplotlib inline\n",
    "import numpy as np\n",
    "import pandas as pd\n",
    "import xlrd\n",
    "import matplotlib.pyplot as plt\n",
    "import re, collections\n",
    "from sklearn.ensemble import RandomForestRegressor\n",
    "from itertools import chain"
   ]
  },
  {
   "cell_type": "code",
   "execution_count": 5,
   "metadata": {},
   "outputs": [],
   "source": [
    "#read in training data\n",
    "df = pd.read_excel(\"training_set_rel3.xls\")"
   ]
  },
  {
   "cell_type": "code",
   "execution_count": 6,
   "metadata": {},
   "outputs": [
    {
     "name": "stdout",
     "output_type": "stream",
     "text": [
      "       essay_set                                              essay  \\\n",
      "0              1  Dear local newspaper, I think effects computer...   \n",
      "1              1  Dear @CAPS1 @CAPS2, I believe that using compu...   \n",
      "2              1  Dear, @CAPS1 @CAPS2 @CAPS3 More and more peopl...   \n",
      "3              1  Dear Local Newspaper, @CAPS1 I have found that...   \n",
      "4              1  Dear @LOCATION1, I know having computers has a...   \n",
      "5              1  Dear @LOCATION1, I think that computers have a...   \n",
      "6              1  Did you know that more and more people these d...   \n",
      "7              1  @PERCENT1 of people agree that computers make ...   \n",
      "8              1  Dear reader, @ORGANIZATION1 has had a dramatic...   \n",
      "9              1  In the @LOCATION1 we have the technology of a ...   \n",
      "10             1  Dear @LOCATION1, @CAPS1 people acknowledge the...   \n",
      "11             1  Dear @CAPS1 @CAPS2 I feel that computers do ta...   \n",
      "12             1  Dear local newspaper I raed ur argument on the...   \n",
      "13             1  My three detaileds for this news paper article...   \n",
      "14             1  Dear, In this world today we should have every...   \n",
      "15             1  Dear @ORGANIZATION1, The computer blinked to l...   \n",
      "16             1  Dear Local Newspaper, I belive that computers ...   \n",
      "17             1  Dear Local Newspaper, I must admit that the ex...   \n",
      "18             1  I aegre waf the evansmant ov tnachnolage. The ...   \n",
      "19             1  Well computers can be a good or a bad thing. I...   \n",
      "20             1  Dear @CAPS1 of the @CAPS2 @CAPS3 daily, I am w...   \n",
      "21             1  Dear local Newspaper @CAPS1 a take all your co...   \n",
      "22             1  Dear local newspaper, @CAPS1 you ever see a ch...   \n",
      "23             1  Dear local newspaper, I've heard that not many...   \n",
      "24             1  Dear @CAPS1, @CAPS2 off, I beileve that comput...   \n",
      "25             1  Do you think that computers are useless? Or do...   \n",
      "26             1  Computers a good because you can get infermati...   \n",
      "27             1  Dear Newspaper, Computers are high tec and hav...   \n",
      "28             1  Dear local newspaper, @CAPS1 people throughout...   \n",
      "29             1  Dear Newspaper People, I think that computers ...   \n",
      "...          ...                                                ...   \n",
      "12948          8   We all understand the benefits of laughter. L...   \n",
      "12949          8        It was midsummer, and i could feel the c...   \n",
      "12950          8   Have you ever experienced a time with your fr...   \n",
      "12951          8   I woke up just like any other day happy yet l...   \n",
      "12952          8   Laughter is an important part of my life, eit...   \n",
      "12953          8   I sat at the table, speechless, as they told ...   \n",
      "12954          8   As I remember back, it was @DATE1. It was a h...   \n",
      "12955          8   Those eyes, it was like I was looking out int...   \n",
      "12956          8  Some say that laugh is the common language bet...   \n",
      "12957          8   Laughter is an integral element to many situa...   \n",
      "12958          8  One time I was at my friend @PERSON1's house, ...   \n",
      "12959          8   LAUGHTER @CAPS1 knows that laughter is a heal...   \n",
      "12960          8  One thing that people in the world love to do ...   \n",
      "12961          8   Laughter, to me, is an important aspect of my...   \n",
      "12962          8   People always say that the worst parts of lif...   \n",
      "12963          8   Why is it that people can look back at someth...   \n",
      "12964          8   Before my best friend moved away, we would st...   \n",
      "12965          8                                @ORGANIZATION1  ...   \n",
      "12966          8   Morose and somnolent, I woke up. I woke up to...   \n",
      "12967          8   A while back my mom had decided to send me to...   \n",
      "12968          8                              I dont like computers   \n",
      "12969          8   Everyone knows how important a laugh can be. ...   \n",
      "12970          8   Laughter is an important part of my family. W...   \n",
      "12971          8   laughter is an important part of any kind of ...   \n",
      "12972          8  Sometime ago on a hot @DATE1 day my @NUM1 ,@PE...   \n",
      "12973          8   In most stories mothers and daughters are eit...   \n",
      "12974          8   I never understood the meaning laughter is th...   \n",
      "12975          8  When you laugh, is @CAPS5 out of habit, or is ...   \n",
      "12976          8                                 Trippin' on fen...   \n",
      "12977          8   Many people believe that laughter can improve...   \n",
      "\n",
      "       domain1_score  \n",
      "0                8.0  \n",
      "1                9.0  \n",
      "2                7.0  \n",
      "3               10.0  \n",
      "4                8.0  \n",
      "5                8.0  \n",
      "6               10.0  \n",
      "7               10.0  \n",
      "8                9.0  \n",
      "9                9.0  \n",
      "10               8.0  \n",
      "11               8.0  \n",
      "12               7.0  \n",
      "13               6.0  \n",
      "14               6.0  \n",
      "15              12.0  \n",
      "16               8.0  \n",
      "17               8.0  \n",
      "18               4.0  \n",
      "19               6.0  \n",
      "20               8.0  \n",
      "21               3.0  \n",
      "22              10.0  \n",
      "23              11.0  \n",
      "24               8.0  \n",
      "25               9.0  \n",
      "26               4.0  \n",
      "27               9.0  \n",
      "28               9.0  \n",
      "29               8.0  \n",
      "...              ...  \n",
      "12948           40.0  \n",
      "12949           32.0  \n",
      "12950           36.0  \n",
      "12951           31.0  \n",
      "12952           30.0  \n",
      "12953           47.0  \n",
      "12954           40.0  \n",
      "12955           35.0  \n",
      "12956           33.0  \n",
      "12957           36.0  \n",
      "12958           36.0  \n",
      "12959           48.0  \n",
      "12960           40.0  \n",
      "12961           40.0  \n",
      "12962           40.0  \n",
      "12963           42.0  \n",
      "12964           40.0  \n",
      "12965           32.0  \n",
      "12966           36.0  \n",
      "12967           40.0  \n",
      "12968           10.0  \n",
      "12969           33.0  \n",
      "12970           44.0  \n",
      "12971           35.0  \n",
      "12972           30.0  \n",
      "12973           35.0  \n",
      "12974           32.0  \n",
      "12975           40.0  \n",
      "12976           40.0  \n",
      "12977           40.0  \n",
      "\n",
      "[12978 rows x 3 columns]\n"
     ]
    }
   ],
   "source": [
    "data = df[['essay_set','essay','domain1_score']].copy()\n",
    "print(data)"
   ]
  },
  {
   "cell_type": "code",
   "execution_count": 7,
   "metadata": {},
   "outputs": [
    {
     "name": "stderr",
     "output_type": "stream",
     "text": [
      "/Users/pengluyao/anaconda3/lib/python3.6/site-packages/numpy/core/fromnumeric.py:51: FutureWarning: reshape is deprecated and will raise in a subsequent release. Please use .values.reshape(...) instead\n",
      "  return getattr(obj, method)(*args, **kwds)\n"
     ]
    },
    {
     "data": {
      "text/plain": [
       "<matplotlib.axes._subplots.AxesSubplot at 0x1a15b05eb8>"
      ]
     },
     "execution_count": 7,
     "metadata": {},
     "output_type": "execute_result"
    },
    {
     "data": {
      "image/png": "[encoded data removed]",
      "text/plain": [
       "<Figure size 720x720 with 1 Axes>"
      ]
     },
     "metadata": {},
     "output_type": "display_data"
    }
   ],
   "source": [
    "df.boxplot(column = 'domain1_score', by = 'essay_set', figsize = (10, 10))"
   ]
  },
  {
   "cell_type": "code",
   "execution_count": 8,
   "metadata": {
    "collapsed": true
   },
   "outputs": [],
   "source": [
    "#Putting essays, essay_set into dictionary and calculate each essay length\n",
    "train_data = {}\n",
    "for index, row in df.iterrows():\n",
    "    essay = row[\"essay\"].strip().split(\" \")\n",
    "    essay_set = row['essay_set']\n",
    "    domain1_score = row['domain1_score']/2\n",
    "    length = len(essay)\n",
    "    if essay_set not in train_data:\n",
    "        train_data[essay_set] = {\"essay\":[], \"score\":[], \"length\":[]}\n",
    "    train_data[essay_set][\"essay\"].append(essay)\n",
    "    train_data[essay_set]['score'].append(domain1_score)\n",
    "    train_data[essay_set]['length'].append(length)"
   ]
  },
  {
   "cell_type": "markdown",
   "metadata": {},
   "source": [
    "## Baseline feature extractions\n",
    "Baseline features include total essay length, sentence length and density, word length and frequency etc. "
   ]
  },
  {
   "cell_type": "code",
   "execution_count": 9,
   "metadata": {},
   "outputs": [
    {
     "name": "stderr",
     "output_type": "stream",
     "text": [
      "/Users/pengluyao/anaconda3/lib/python3.6/site-packages/numpy/core/fromnumeric.py:51: FutureWarning: reshape is deprecated and will raise in a subsequent release. Please use .values.reshape(...) instead\n",
      "  return getattr(obj, method)(*args, **kwds)\n"
     ]
    },
    {
     "data": {
      "text/plain": [
       "<matplotlib.axes._subplots.AxesSubplot at 0x1a160a1ac8>"
      ]
     },
     "execution_count": 9,
     "metadata": {},
     "output_type": "execute_result"
    },
    {
     "data": {
      "image/png": "[encoded data removed]",
      "text/plain": [
       "<Figure size 720x720 with 1 Axes>"
      ]
     },
     "metadata": {},
     "output_type": "display_data"
    }
   ],
   "source": [
    "total_len = []\n",
    "for set in range(1,9):\n",
    "    len_by_set = train_data[set][\"length\"]\n",
    "    total_len.append(len_by_set)\n",
    "\n",
    "total_len = list(chain(*total_len))\n",
    "df['total_len'] = pd.Series(total_len)\n",
    "df.boxplot(column = 'total_len', by = 'essay_set', figsize = (10, 10))"
   ]
  },
  {
   "cell_type": "code",
   "execution_count": null,
   "metadata": {
    "collapsed": true
   },
   "outputs": [],
   "source": [
    "#get word count discarding punctuations:\n",
    "def get_word_count(essay):\n",
    "    return len(re.findall(r\"\\s\", essay))+1\n",
    "\n",
    "# get sentence\n",
    "def sent_num(essay):\n",
    "    sentences_num = len(sent_tokenize(essay))\n",
    "    return sentences_num\n",
    "\n",
    "#get sentenceASC length:\n",
    "def sent_len(essay):\n",
    "    sentence = sent_tokenize(essay)\n",
    "    sentence_len = len(word_tokenize(sentence))\n",
    "    return sentence_len"
   ]
  },
  {
   "cell_type": "markdown",
   "metadata": {},
   "source": []
  },
  {
   "cell_type": "code",
   "execution_count": null,
   "metadata": {
    "collapsed": true
   },
   "outputs": [],
   "source": []
  }
 ],
 "metadata": {
  "kernelspec": {
   "display_name": "Python 3",
   "language": "python",
   "name": "python3"
  },
  "language_info": {
   "codemirror_mode": {
    "name": "ipython",
    "version": 3
   },
   "file_extension": ".py",
   "mimetype": "text/x-python",
   "name": "python",
   "nbconvert_exporter": "python",
   "pygments_lexer": "ipython3",
   "version": "3.6.3"
  }
 },
 "nbformat": 4,
 "nbformat_minor": 1
}
